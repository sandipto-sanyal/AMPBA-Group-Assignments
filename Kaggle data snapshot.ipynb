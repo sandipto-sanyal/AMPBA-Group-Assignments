{
 "cells": [
  {
   "cell_type": "code",
   "execution_count": 2,
   "metadata": {},
   "outputs": [],
   "source": [
    "import os"
   ]
  },
  {
   "cell_type": "code",
   "execution_count": 29,
   "metadata": {},
   "outputs": [],
   "source": [
    "path = '/home/ec2-user/SageMaker/netflix-prize-data'\n",
    "file = 'combined_data_1.txt'"
   ]
  },
  {
   "cell_type": "code",
   "execution_count": 30,
   "metadata": {},
   "outputs": [],
   "source": [
    "with open(os.path.join(path,file),'r') as f:\n",
    "    st = f.readlines()"
   ]
  },
  {
   "cell_type": "code",
   "execution_count": 31,
   "metadata": {
    "scrolled": true
   },
   "outputs": [
    {
     "data": {
      "text/plain": [
       "['1:\\n',\n",
       " '1488844,3,2005-09-06\\n',\n",
       " '822109,5,2005-05-13\\n',\n",
       " '885013,4,2005-10-19\\n',\n",
       " '30878,4,2005-12-26\\n',\n",
       " '823519,3,2004-05-03\\n',\n",
       " '893988,3,2005-11-17\\n',\n",
       " '124105,4,2004-08-05\\n',\n",
       " '1248029,3,2004-04-22\\n',\n",
       " '1842128,4,2004-05-09\\n']"
      ]
     },
     "metadata": {},
     "output_type": "display_data"
    },
    {
     "name": "stdout",
     "output_type": "stream",
     "text": [
      "Number of records: 24058263\n"
     ]
    }
   ],
   "source": [
    "display(st[:10])\n",
    "print('Number of records: {}'.format(len(st)))\n",
    "del st"
   ]
  },
  {
   "cell_type": "code",
   "execution_count": 32,
   "metadata": {},
   "outputs": [],
   "source": [
    "path = '/home/ec2-user/SageMaker/netflix-prize-data'\n",
    "file = 'combined_data_2.txt'"
   ]
  },
  {
   "cell_type": "code",
   "execution_count": 33,
   "metadata": {},
   "outputs": [],
   "source": [
    "with open(os.path.join(path,file),'r') as f:\n",
    "    st = f.readlines()"
   ]
  },
  {
   "cell_type": "code",
   "execution_count": 34,
   "metadata": {},
   "outputs": [
    {
     "data": {
      "text/plain": [
       "['4500:\\n',\n",
       " '2532865,4,2005-07-26\\n',\n",
       " '573364,3,2005-06-20\\n',\n",
       " '1696725,3,2004-02-27\\n',\n",
       " '1253431,3,2004-03-31\\n',\n",
       " '1265574,2,2003-09-01\\n',\n",
       " '1049643,1,2003-11-15\\n',\n",
       " '1601348,4,2005-04-05\\n',\n",
       " '1495289,5,2005-07-09\\n',\n",
       " '1254903,3,2003-09-02\\n']"
      ]
     },
     "metadata": {},
     "output_type": "display_data"
    },
    {
     "name": "stdout",
     "output_type": "stream",
     "text": [
      "Number of records: 26982302\n"
     ]
    }
   ],
   "source": [
    "display(st[:10])\n",
    "print('Number of records: {}'.format(len(st)))\n",
    "del st"
   ]
  },
  {
   "cell_type": "code",
   "execution_count": 35,
   "metadata": {},
   "outputs": [],
   "source": [
    "path = '/home/ec2-user/SageMaker/netflix-prize-data'\n",
    "file = 'combined_data_3.txt'"
   ]
  },
  {
   "cell_type": "code",
   "execution_count": 36,
   "metadata": {},
   "outputs": [],
   "source": [
    "with open(os.path.join(path,file),'r') as f:\n",
    "    st = f.readlines()"
   ]
  },
  {
   "cell_type": "code",
   "execution_count": 37,
   "metadata": {},
   "outputs": [
    {
     "data": {
      "text/plain": [
       "['9211:\\n',\n",
       " '1277134,1,2003-12-02\\n',\n",
       " '2435457,2,2005-06-01\\n',\n",
       " '2338545,3,2001-02-17\\n',\n",
       " '2218269,1,2002-12-27\\n',\n",
       " '441153,4,2002-10-11\\n',\n",
       " '1921624,2,2005-08-31\\n',\n",
       " '2096652,3,2004-05-31\\n',\n",
       " '818736,2,2004-02-17\\n',\n",
       " '284560,3,2003-07-27\\n']"
      ]
     },
     "metadata": {},
     "output_type": "display_data"
    },
    {
     "name": "stdout",
     "output_type": "stream",
     "text": [
      "Number of records: 22605786\n"
     ]
    }
   ],
   "source": [
    "display(st[:10])\n",
    "print('Number of records: {}'.format(len(st)))\n",
    "del st"
   ]
  },
  {
   "cell_type": "code",
   "execution_count": 38,
   "metadata": {},
   "outputs": [],
   "source": [
    "path = '/home/ec2-user/SageMaker/netflix-prize-data'\n",
    "file = 'combined_data_4.txt'"
   ]
  },
  {
   "cell_type": "code",
   "execution_count": 39,
   "metadata": {},
   "outputs": [],
   "source": [
    "with open(os.path.join(path,file),'r') as f:\n",
    "    st = f.readlines()"
   ]
  },
  {
   "cell_type": "code",
   "execution_count": 40,
   "metadata": {},
   "outputs": [
    {
     "data": {
      "text/plain": [
       "['13368:\\n',\n",
       " '2385003,4,2004-07-08\\n',\n",
       " '659432,3,2005-03-16\\n',\n",
       " '751812,2,2002-12-16\\n',\n",
       " '2625420,2,2004-05-25\\n',\n",
       " '1650301,1,2005-08-30\\n',\n",
       " '2269227,4,2005-10-27\\n',\n",
       " '2220672,4,2002-08-19\\n',\n",
       " '2500511,4,2003-08-11\\n',\n",
       " '1452058,2,2005-01-29\\n']"
      ]
     },
     "metadata": {},
     "output_type": "display_data"
    },
    {
     "name": "stdout",
     "output_type": "stream",
     "text": [
      "Number of records: 26851926\n"
     ]
    }
   ],
   "source": [
    "display(st[:10])\n",
    "print('Number of records: {}'.format(len(st)))\n",
    "del st"
   ]
  },
  {
   "cell_type": "code",
   "execution_count": 41,
   "metadata": {},
   "outputs": [],
   "source": [
    "path = '/home/ec2-user/SageMaker/netflix-prize-data'\n",
    "file = 'probe.txt'"
   ]
  },
  {
   "cell_type": "code",
   "execution_count": 42,
   "metadata": {},
   "outputs": [],
   "source": [
    "with open(os.path.join(path,file),'r') as f:\n",
    "    st = f.readlines()"
   ]
  },
  {
   "cell_type": "code",
   "execution_count": 43,
   "metadata": {},
   "outputs": [
    {
     "data": {
      "text/plain": [
       "['1:\\n',\n",
       " '30878\\n',\n",
       " '2647871\\n',\n",
       " '1283744\\n',\n",
       " '2488120\\n',\n",
       " '317050\\n',\n",
       " '1904905\\n',\n",
       " '1989766\\n',\n",
       " '14756\\n',\n",
       " '1027056\\n']"
      ]
     },
     "metadata": {},
     "output_type": "display_data"
    },
    {
     "name": "stdout",
     "output_type": "stream",
     "text": [
      "Number of records: 1425333\n"
     ]
    }
   ],
   "source": [
    "display(st[:10])\n",
    "print('Number of records: {}'.format(len(st)))\n",
    "del st"
   ]
  },
  {
   "cell_type": "code",
   "execution_count": 44,
   "metadata": {},
   "outputs": [],
   "source": [
    "path = '/home/ec2-user/SageMaker/netflix-prize-data'\n",
    "file = 'movie_titles.csv'"
   ]
  },
  {
   "cell_type": "code",
   "execution_count": 45,
   "metadata": {},
   "outputs": [],
   "source": [
    "with open(os.path.join(path,file),'r',encoding='cp1252') as f:\n",
    "    st = f.readlines()"
   ]
  },
  {
   "cell_type": "code",
   "execution_count": 46,
   "metadata": {},
   "outputs": [
    {
     "data": {
      "text/plain": [
       "['1,2003,Dinosaur Planet\\n',\n",
       " '2,2004,Isle of Man TT 2004 Review\\n',\n",
       " '3,1997,Character\\n',\n",
       " \"4,1994,Paula Abdul's Get Up & Dance\\n\",\n",
       " '5,2004,The Rise and Fall of ECW\\n',\n",
       " '6,1997,Sick\\n',\n",
       " '7,1992,8 Man\\n',\n",
       " '8,2004,What the #$*! Do We Know!?\\n',\n",
       " \"9,1991,Class of Nuke 'Em High 2\\n\",\n",
       " '10,2001,Fighter\\n']"
      ]
     },
     "metadata": {},
     "output_type": "display_data"
    },
    {
     "name": "stdout",
     "output_type": "stream",
     "text": [
      "Number of records: 17770\n"
     ]
    }
   ],
   "source": [
    "display(st[:10])\n",
    "print('Number of records: {}'.format(len(st)))\n",
    "del st"
   ]
  },
  {
   "cell_type": "code",
   "execution_count": 26,
   "metadata": {},
   "outputs": [],
   "source": [
    "path = '/home/ec2-user/SageMaker/netflix-prize-data'\n",
    "file = 'qualifying.txt'"
   ]
  },
  {
   "cell_type": "code",
   "execution_count": 27,
   "metadata": {},
   "outputs": [],
   "source": [
    "with open(os.path.join(path,file),'r',encoding='cp1252') as f:\n",
    "    st = f.readlines()"
   ]
  },
  {
   "cell_type": "code",
   "execution_count": 28,
   "metadata": {},
   "outputs": [
    {
     "data": {
      "text/plain": [
       "['1:\\n',\n",
       " '1046323,2005-12-19\\n',\n",
       " '1080030,2005-12-23\\n',\n",
       " '1830096,2005-03-14\\n',\n",
       " '368059,2005-05-26\\n',\n",
       " '802003,2005-11-07\\n',\n",
       " '513509,2005-07-04\\n',\n",
       " '1086137,2005-09-21\\n',\n",
       " '428698,2005-12-20\\n',\n",
       " '515850,2005-11-27\\n']"
      ]
     },
     "metadata": {},
     "output_type": "display_data"
    }
   ],
   "source": [
    "display(st[:10])\n",
    "del st"
   ]
  },
  {
   "cell_type": "code",
   "execution_count": null,
   "metadata": {},
   "outputs": [],
   "source": []
  }
 ],
 "metadata": {
  "kernelspec": {
   "display_name": "conda_python3",
   "language": "python",
   "name": "conda_python3"
  },
  "language_info": {
   "codemirror_mode": {
    "name": "ipython",
    "version": 3
   },
   "file_extension": ".py",
   "mimetype": "text/x-python",
   "name": "python",
   "nbconvert_exporter": "python",
   "pygments_lexer": "ipython3",
   "version": "3.6.10"
  }
 },
 "nbformat": 4,
 "nbformat_minor": 4
}
